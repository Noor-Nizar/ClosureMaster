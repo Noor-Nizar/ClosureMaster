{
 "cells": [
  {
   "cell_type": "code",
   "execution_count": 1,
   "metadata": {},
   "outputs": [],
   "source": [
    "from models.PlaceNet import PlaceNet\n",
    "from helpers import logger\n",
    "\n",
    "import logging\n",
    "import torch\n",
    "\n",
    "logger.setLevel(logging.INFO)"
   ]
  },
  {
   "cell_type": "code",
   "execution_count": 2,
   "metadata": {},
   "outputs": [],
   "source": [
    "model = PlaceNet()"
   ]
  },
  {
   "cell_type": "code",
   "execution_count": 3,
   "metadata": {},
   "outputs": [
    {
     "name": "stdout",
     "output_type": "stream",
     "text": [
      "----------------------------------------------------------------------------------------------------\n",
      "torch.Size([1, 7, 480, 640])\n",
      "torch.Size([1, 7, 240, 320])\n",
      "torch.Size([1, 7, 120, 160])\n"
     ]
    }
   ],
   "source": [
    "dummy_in_full = torch.ones((1,7,480,640))\n",
    "dummy_in_half = torch.ones((1,7,240,320))\n",
    "dummy_in_quarter = torch.ones((1,7,120,160))\n",
    "\n",
    "recon_full, recon_half, recon_quarter = model(dummy_in_full, dummy_in_half, dummy_in_quarter)\n",
    "\n",
    "print(\"-\"*100)\n",
    "print(recon_full.shape)\n",
    "print(recon_half.shape)\n",
    "print(recon_quarter.shape)"
   ]
  },
  {
   "cell_type": "code",
   "execution_count": 6,
   "metadata": {},
   "outputs": [
    {
     "data": {
      "text/plain": [
       "tensor(2.0023, grad_fn=<AddBackward0>)"
      ]
     },
     "execution_count": 6,
     "metadata": {},
     "output_type": "execute_result"
    }
   ],
   "source": [
    "from helpers import WMSELoss\n",
    "\n",
    "loss = WMSELoss(recon_full, dummy_in_full)\n",
    "loss"
   ]
  },
  {
   "cell_type": "code",
   "execution_count": null,
   "metadata": {},
   "outputs": [],
   "source": []
  }
 ],
 "metadata": {
  "kernelspec": {
   "display_name": "mtpqt",
   "language": "python",
   "name": "python3"
  },
  "language_info": {
   "codemirror_mode": {
    "name": "ipython",
    "version": 3
   },
   "file_extension": ".py",
   "mimetype": "text/x-python",
   "name": "python",
   "nbconvert_exporter": "python",
   "pygments_lexer": "ipython3",
   "version": "3.10.6"
  }
 },
 "nbformat": 4,
 "nbformat_minor": 2
}
